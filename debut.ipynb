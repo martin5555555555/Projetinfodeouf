{
 "cells": [
  {
   "cell_type": "code",
   "execution_count": 16,
   "metadata": {},
   "outputs": [],
   "source": [
    "from maq20 import MAQ20\n",
    "import pandas as pd\n",
    "import keyboard\n",
    "import time "
   ]
  },
  {
   "cell_type": "code",
   "execution_count": 15,
   "metadata": {},
   "outputs": [
    {
     "data": {
      "text/html": [
       "<div>\n",
       "<style scoped>\n",
       "    .dataframe tbody tr th:only-of-type {\n",
       "        vertical-align: middle;\n",
       "    }\n",
       "\n",
       "    .dataframe tbody tr th {\n",
       "        vertical-align: top;\n",
       "    }\n",
       "\n",
       "    .dataframe thead th {\n",
       "        text-align: right;\n",
       "    }\n",
       "</style>\n",
       "<table border=\"1\" class=\"dataframe\">\n",
       "  <thead>\n",
       "    <tr style=\"text-align: right;\">\n",
       "      <th></th>\n",
       "      <th>a</th>\n",
       "      <th>b</th>\n",
       "    </tr>\n",
       "  </thead>\n",
       "  <tbody>\n",
       "    <tr>\n",
       "      <th>1.2</th>\n",
       "      <td>a</td>\n",
       "      <td>b</td>\n",
       "    </tr>\n",
       "  </tbody>\n",
       "</table>\n",
       "</div>"
      ],
      "text/plain": [
       "     a  b\n",
       "1.2  a  b"
      ]
     },
     "execution_count": 15,
     "metadata": {},
     "output_type": "execute_result"
    }
   ],
   "source": []
  },
  {
   "cell_type": "code",
   "execution_count": 3,
   "metadata": {},
   "outputs": [
    {
     "ename": "TimeoutError",
     "evalue": "timed out",
     "output_type": "error",
     "traceback": [
      "\u001b[1;31m---------------------------------------------------------------------------\u001b[0m",
      "\u001b[1;31mTimeoutError\u001b[0m                              Traceback (most recent call last)",
      "\u001b[1;32mc:\\Users\\stoll\\git\\projetinfodeouf\\debut.ipynb Cell 2'\u001b[0m in \u001b[0;36m<cell line: 1>\u001b[1;34m()\u001b[0m\n\u001b[1;32m----> <a href='vscode-notebook-cell:/c%3A/Users/stoll/git/projetinfodeouf/debut.ipynb#ch0000001?line=0'>1</a>\u001b[0m maq20 \u001b[39m=\u001b[39m MAQ20(ip_address\u001b[39m=\u001b[39;49m\u001b[39m\"\u001b[39;49m\u001b[39m192.168.128.100\u001b[39;49m\u001b[39m\"\u001b[39;49m, port\u001b[39m=\u001b[39;49m\u001b[39m502\u001b[39;49m)\n",
      "File \u001b[1;32mC:\\Python310\\lib\\site-packages\\maq20\\maq20.py:26\u001b[0m, in \u001b[0;36mMAQ20.__init__\u001b[1;34m(self, ip_address, port)\u001b[0m\n\u001b[0;32m     <a href='file:///c%3A/Python310/lib/site-packages/maq20/maq20.py?line=23'>24</a>\u001b[0m \u001b[39mself\u001b[39m\u001b[39m.\u001b[39m_username \u001b[39m=\u001b[39m \u001b[39m'\u001b[39m\u001b[39m'\u001b[39m\n\u001b[0;32m     <a href='file:///c%3A/Python310/lib/site-packages/maq20/maq20.py?line=24'>25</a>\u001b[0m \u001b[39mself\u001b[39m\u001b[39m.\u001b[39m_password \u001b[39m=\u001b[39m \u001b[39m'\u001b[39m\u001b[39m'\u001b[39m\n\u001b[1;32m---> <a href='file:///c%3A/Python310/lib/site-packages/maq20/maq20.py?line=25'>26</a>\u001b[0m \u001b[39mself\u001b[39m\u001b[39m.\u001b[39m_com \u001b[39m=\u001b[39m COMx(ip_address, port)\n\u001b[0;32m     <a href='file:///c%3A/Python310/lib/site-packages/maq20/maq20.py?line=26'>27</a>\u001b[0m \u001b[39mself\u001b[39m\u001b[39m.\u001b[39m_module_list \u001b[39m=\u001b[39m []  \u001b[39m# type: list[MAQ20Module]\u001b[39;00m\n\u001b[0;32m     <a href='file:///c%3A/Python310/lib/site-packages/maq20/maq20.py?line=27'>28</a>\u001b[0m \u001b[39mself\u001b[39m\u001b[39m.\u001b[39mscan_module_list()\n",
      "File \u001b[1;32mC:\\Python310\\lib\\site-packages\\maq20\\maq20com.py:38\u001b[0m, in \u001b[0;36mCOMx.__init__\u001b[1;34m(self, ip_address, port)\u001b[0m\n\u001b[0;32m     <a href='file:///c%3A/Python310/lib/site-packages/maq20/maq20com.py?line=35'>36</a>\u001b[0m         \u001b[39mself\u001b[39m\u001b[39m.\u001b[39m_sock \u001b[39m=\u001b[39m socket\u001b[39m.\u001b[39msocket(socket\u001b[39m.\u001b[39mAF_INET, socket\u001b[39m.\u001b[39mSOCK_STREAM)\n\u001b[0;32m     <a href='file:///c%3A/Python310/lib/site-packages/maq20/maq20com.py?line=36'>37</a>\u001b[0m         \u001b[39mself\u001b[39m\u001b[39m.\u001b[39m_sock\u001b[39m.\u001b[39msettimeout(\u001b[39m2\u001b[39m)  \u001b[39m# seconds\u001b[39;00m\n\u001b[1;32m---> <a href='file:///c%3A/Python310/lib/site-packages/maq20/maq20com.py?line=37'>38</a>\u001b[0m         \u001b[39mself\u001b[39;49m\u001b[39m.\u001b[39;49m_sock\u001b[39m.\u001b[39;49mconnect((ip_address, port))\n\u001b[0;32m     <a href='file:///c%3A/Python310/lib/site-packages/maq20/maq20com.py?line=38'>39</a>\u001b[0m \u001b[39msuper\u001b[39m(COMx, \u001b[39mself\u001b[39m)\u001b[39m.\u001b[39m\u001b[39m__init__\u001b[39m(com\u001b[39m=\u001b[39m\u001b[39mself\u001b[39m, registration_number\u001b[39m=\u001b[39m\u001b[39m0\u001b[39m)\n",
      "\u001b[1;31mTimeoutError\u001b[0m: timed out"
     ]
    }
   ],
   "source": [
    "maq20 = MAQ20(ip_address=\"192.168.128.100\", port=502)\n"
   ]
  },
  {
   "cell_type": "code",
   "execution_count": null,
   "metadata": {},
   "outputs": [],
   "source": [
    "#création de la DataFrame associée à la collecte des données\n",
    "liste_modules = [\"VDN\"]\n",
    "data_received = pd.DataFrame(columns = liste_module_to_find)\n",
    "\n"
   ]
  },
  {
   "cell_type": "code",
   "execution_count": 2,
   "metadata": {},
   "outputs": [
    {
     "ename": "NameError",
     "evalue": "name 'maq20' is not defined",
     "output_type": "error",
     "traceback": [
      "\u001b[1;31m---------------------------------------------------------------------------\u001b[0m",
      "\u001b[1;31mNameError\u001b[0m                                 Traceback (most recent call last)",
      "\u001b[1;32mc:\\Users\\stoll\\git\\projetinfodeouf\\debut.ipynb Cell 3'\u001b[0m in \u001b[0;36m<cell line: 3>\u001b[1;34m()\u001b[0m\n\u001b[0;32m      <a href='vscode-notebook-cell:/c%3A/Users/stoll/git/projetinfodeouf/debut.ipynb#ch0000004?line=0'>1</a>\u001b[0m \u001b[39m#connection des modules\u001b[39;00m\n\u001b[0;32m      <a href='vscode-notebook-cell:/c%3A/Users/stoll/git/projetinfodeouf/debut.ipynb#ch0000004?line=1'>2</a>\u001b[0m module_to_find \u001b[39m=\u001b[39m \u001b[39m\"\u001b[39m\u001b[39mVDN\u001b[39m\u001b[39m\"\u001b[39m\n\u001b[1;32m----> <a href='vscode-notebook-cell:/c%3A/Users/stoll/git/projetinfodeouf/debut.ipynb#ch0000004?line=2'>3</a>\u001b[0m module \u001b[39m=\u001b[39m maq20\u001b[39m.\u001b[39mfind(module_to_find)\n\u001b[0;32m      <a href='vscode-notebook-cell:/c%3A/Users/stoll/git/projetinfodeouf/debut.ipynb#ch0000004?line=3'>4</a>\u001b[0m \u001b[39mif\u001b[39;00m module \u001b[39mis\u001b[39;00m \u001b[39mNone\u001b[39;00m: \u001b[39m# Check if module was not found\u001b[39;00m\n\u001b[0;32m      <a href='vscode-notebook-cell:/c%3A/Users/stoll/git/projetinfodeouf/debut.ipynb#ch0000004?line=4'>5</a>\u001b[0m     \u001b[39mraise\u001b[39;00m \u001b[39mValueError\u001b[39;00m(\u001b[39m\"\u001b[39m\u001b[39mModule not found\u001b[39m\u001b[39m\"\u001b[39m) \u001b[39m# if not found, raise error.\u001b[39;00m\n",
      "\u001b[1;31mNameError\u001b[0m: name 'maq20' is not defined"
     ]
    }
   ],
   "source": [
    "#connection des modules\n",
    "liste_module_to_find = [\"VDN\"]\n",
    "for module_to_find in liste_module_to_find:\n",
    "    globals()['module_%s' % module_to_find] = maq20.find(module_to_find)\n",
    "    module_to_use = 'module_%s' % module_to_find\n",
    "    if module_to_use is None: # Check if module was not found\n",
    "        raise ValueError(\"Module not found\") # if not found, raise error.\n",
    "    \n",
    "print(\"tous les modules ont été trouvés\") # print module to see information about it\n"
   ]
  },
  {
   "cell_type": "code",
   "execution_count": 1,
   "metadata": {},
   "outputs": [],
   "source": [
    "#étape préliminaire dans laquelle on fixe manuellement les valeurs"
   ]
  },
  {
   "cell_type": "code",
   "execution_count": null,
   "metadata": {},
   "outputs": [],
   "source": [
    "#on rentre dans la boucle, et il faudra presser la lettre q pour en sortir\n",
    "\n",
    "periode = 30 #période d'acquisition\n",
    "continue_experiment = true\n",
    "while continue_experiment:\n",
    "    if keyboard.is_pressed('q'): #on presse q pour quitter le programme\n",
    "        print('vous avez arrêté le programme')\n",
    "        break\n",
    "\n",
    "    liste_data_boucle = []\n",
    "#récupération des données des différents capteurs (attention il faut que l'ordre dans lequel on parcourt les \n",
    "# capteurs soit le même que pour la dataFrame)\n",
    "    #pour le premier capteur de température:\n",
    "    module_to_use = module_temperature\n",
    "    data = module_to_use.read_data(0, number_of_channels = module_to_use.get_number_of_channels())\n",
    "    liste_data_boucle.append(data)\n",
    "\n",
    "\n",
    "\n",
    "    #ajout des données reçues à la DataFrame\n",
    "    data_received.loc[time.time] = liste_data_boucle\n",
    "    \n",
    "    \n",
    "\n",
    "\n",
    "    \n",
    "\n",
    "    \n",
    "\n"
   ]
  },
  {
   "cell_type": "code",
   "execution_count": null,
   "metadata": {},
   "outputs": [],
   "source": [
    "#réglage de la puissance des résistances et des ventilps"
   ]
  }
 ],
 "metadata": {
  "interpreter": {
   "hash": "2be5faf79681da6f2a61fdfdd5405d65d042280f7fba6178067603e3a2925119"
  },
  "kernelspec": {
   "display_name": "Python 3.10.2 64-bit",
   "language": "python",
   "name": "python3"
  },
  "language_info": {
   "codemirror_mode": {
    "name": "ipython",
    "version": 3
   },
   "file_extension": ".py",
   "mimetype": "text/x-python",
   "name": "python",
   "nbconvert_exporter": "python",
   "pygments_lexer": "ipython3",
   "version": "3.10.2"
  },
  "orig_nbformat": 4
 },
 "nbformat": 4,
 "nbformat_minor": 2
}
